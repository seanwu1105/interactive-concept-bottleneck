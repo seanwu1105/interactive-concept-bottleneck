{
 "cells": [
  {
   "cell_type": "code",
   "execution_count": 1,
   "metadata": {},
   "outputs": [],
   "source": [
    "from torch.utils.data import DataLoader\n",
    "\n",
    "from src.concept_bottleneck.dataset import CUB200ImageToClass\n",
    "\n",
    "batch_size = 16\n",
    "num_workers = 2\n",
    "\n",
    "test_data = CUB200ImageToClass(train=False)\n",
    "test_dataloader = DataLoader(test_data, batch_size=batch_size, num_workers=num_workers)\n"
   ]
  },
  {
   "cell_type": "code",
   "execution_count": 2,
   "metadata": {},
   "outputs": [
    {
     "name": "stdout",
     "output_type": "stream",
     "text": [
      "Using cuda device\n"
     ]
    },
    {
     "name": "stderr",
     "output_type": "stream",
     "text": [
      "Using cache found in /home/shuangwu/.cache/torch/hub/pytorch_vision_v0.10.0\n",
      "Using cache found in /home/shuangwu/.cache/torch/hub/pytorch_vision_v0.10.0\n",
      "Using cache found in /home/shuangwu/.cache/torch/hub/pytorch_vision_v0.10.0\n"
     ]
    }
   ],
   "source": [
    "import torch\n",
    "\n",
    "from src.concept_bottleneck.inference import (\n",
    "    load_image_to_attributes_model,\n",
    "    load_attributes_to_class_model,\n",
    "    INDEPENDENT_IMAGE_TO_ATTRIBUTES_MODEL_NAME,\n",
    "    INDEPENDENT_ATTRIBUTES_TO_CLASS_MODEL_NAME,\n",
    "    SEQUENTIAL_ATTRIBUTES_TO_CLASS_MODEL_NAME,\n",
    "    JOINT_IMAGE_TO_ATTRIBUTES_MODEL_NAME,\n",
    "    JOINT_ATTRIBUTES_TO_CLASS_MODEL_NAME,\n",
    ")\n",
    "\n",
    "device = \"cuda\" if torch.cuda.is_available() else \"cpu\"\n",
    "print(f\"Using {device} device\")\n",
    "\n",
    "models: dict[str, tuple[torch.nn.Module, torch.nn.Module]] = {\n",
    "    \"independent\": (\n",
    "        load_image_to_attributes_model(\n",
    "            INDEPENDENT_IMAGE_TO_ATTRIBUTES_MODEL_NAME, device\n",
    "        ),\n",
    "        load_attributes_to_class_model(\n",
    "            INDEPENDENT_ATTRIBUTES_TO_CLASS_MODEL_NAME, device\n",
    "        ),\n",
    "    ),\n",
    "    \"sequential\": (\n",
    "        load_image_to_attributes_model(\n",
    "            INDEPENDENT_IMAGE_TO_ATTRIBUTES_MODEL_NAME, device\n",
    "        ),\n",
    "        load_attributes_to_class_model(\n",
    "            SEQUENTIAL_ATTRIBUTES_TO_CLASS_MODEL_NAME, device\n",
    "        ),\n",
    "    ),\n",
    "    \"joint\": (\n",
    "        load_image_to_attributes_model(JOINT_IMAGE_TO_ATTRIBUTES_MODEL_NAME, device),\n",
    "        load_attributes_to_class_model(JOINT_ATTRIBUTES_TO_CLASS_MODEL_NAME, device),\n",
    "    ),\n",
    "}\n"
   ]
  },
  {
   "cell_type": "code",
   "execution_count": 3,
   "metadata": {},
   "outputs": [],
   "source": [
    "import numpy as np\n",
    "\n",
    "\n",
    "def test(\n",
    "    image_to_attributes_model: torch.nn.Module,\n",
    "    attributes_to_class_model: torch.nn.Module,\n",
    "    dataloader: DataLoader[tuple[torch.Tensor, np.int_]],\n",
    "    loss_fn: torch.nn.Module,\n",
    "    device: str,\n",
    "):\n",
    "    attributes_to_class_model.eval()\n",
    "    image_to_attributes_model.eval()\n",
    "\n",
    "    test_loss = 0\n",
    "    correct = 0\n",
    "\n",
    "    with torch.no_grad():\n",
    "        for x, y in dataloader:\n",
    "            x = image_to_attributes_model(x.to(device))\n",
    "            y = y.to(device)\n",
    "\n",
    "            logits = attributes_to_class_model(torch.sigmoid(x))\n",
    "            test_loss += loss_fn(logits, y).item()\n",
    "            correct += (logits.argmax(dim=1) == y).sum().item()\n",
    "\n",
    "    test_loss /= len(dataloader)\n",
    "    accuracy = correct / len(dataloader.dataset)  # type: ignore\n",
    "\n",
    "    return test_loss, accuracy\n"
   ]
  },
  {
   "cell_type": "code",
   "execution_count": 4,
   "metadata": {},
   "outputs": [
    {
     "name": "stdout",
     "output_type": "stream",
     "text": [
      "Test loss for independent model: 2.38\n",
      "Test accuracy for independent model: 0.45\n",
      "Test loss for sequential model: 1.53\n",
      "Test accuracy for sequential model: 0.60\n",
      "Test loss for joint model: 5.28\n",
      "Test accuracy for joint model: 0.34\n"
     ]
    }
   ],
   "source": [
    "for name, (image_to_attributes_model, attributes_to_class_model) in models.items():\n",
    "    test_loss, accuracy = test(\n",
    "        image_to_attributes_model,\n",
    "        attributes_to_class_model,\n",
    "        test_dataloader,\n",
    "        torch.nn.CrossEntropyLoss(),\n",
    "        device,\n",
    "    )\n",
    "    print(f\"Test loss for {name} model: {test_loss:.2f}\")\n",
    "    print(f\"Test accuracy for {name} model: {accuracy:.2f}\")\n"
   ]
  }
 ],
 "metadata": {
  "kernelspec": {
   "display_name": "Python 3.10.8 ('.venv': poetry)",
   "language": "python",
   "name": "python3"
  },
  "language_info": {
   "codemirror_mode": {
    "name": "ipython",
    "version": 3
   },
   "file_extension": ".py",
   "mimetype": "text/x-python",
   "name": "python",
   "nbconvert_exporter": "python",
   "pygments_lexer": "ipython3",
   "version": "3.10.8"
  },
  "orig_nbformat": 4,
  "vscode": {
   "interpreter": {
    "hash": "0d4040fe446a930194e7f49e706fe5ca82fc3ae21142ec3efeed3554a6698e7d"
   }
  }
 },
 "nbformat": 4,
 "nbformat_minor": 2
}
