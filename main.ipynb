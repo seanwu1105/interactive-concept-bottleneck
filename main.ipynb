{
 "cells": [
  {
   "cell_type": "code",
   "execution_count": 1,
   "metadata": {},
   "outputs": [
    {
     "name": "stdout",
     "output_type": "stream",
     "text": [
      "Using downloaded and verified file: /home/shuangwu/interactive-concept-bottleneck/src/concept_bottleneck/data/CUB_200_2011.tgz\n",
      "Extracting /home/shuangwu/interactive-concept-bottleneck/src/concept_bottleneck/data/CUB_200_2011.tgz to /home/shuangwu/interactive-concept-bottleneck/src/concept_bottleneck/data\n"
     ]
    }
   ],
   "source": [
    "import torchvision.transforms as transforms\n",
    "import torch\n",
    "\n",
    "from src.concept_bottleneck.dataset import CUB200_2011\n",
    "\n",
    "# According to: https://pytorch.org/hub/pytorch_vision_inception_v3/\n",
    "preprocess = transforms.Compose(\n",
    "    [\n",
    "        transforms.Resize(299),\n",
    "        transforms.CenterCrop(299),\n",
    "        transforms.ToTensor(),\n",
    "        transforms.Normalize(\n",
    "            mean=[0.485, 0.456, 0.406],\n",
    "            std=[0.229, 0.224, 0.225],\n",
    "        ),\n",
    "    ]\n",
    ")\n",
    "\n",
    "training_data: CUB200_2011[torch.Tensor, torch.Tensor] = CUB200_2011(\n",
    "    train=True, transform=preprocess, target_transform=torch.from_numpy  # type: ignore\n",
    ")\n",
    "test_data: CUB200_2011[torch.Tensor, torch.Tensor] = CUB200_2011(\n",
    "    train=False, download=False, transform=preprocess, target_transform=torch.from_numpy  # type: ignore\n",
    ")\n"
   ]
  },
  {
   "cell_type": "code",
   "execution_count": 2,
   "metadata": {},
   "outputs": [],
   "source": [
    "from torch.utils.data import DataLoader\n",
    "\n",
    "batch_size = 16\n",
    "num_workers = 2\n",
    "\n",
    "train_dataloader = DataLoader(\n",
    "    training_data, batch_size=batch_size, shuffle=True, num_workers=2\n",
    ")\n",
    "test_dataloader = DataLoader(test_data, batch_size=batch_size, num_workers=2)\n"
   ]
  },
  {
   "cell_type": "code",
   "execution_count": 3,
   "metadata": {},
   "outputs": [
    {
     "name": "stdout",
     "output_type": "stream",
     "text": [
      "Using cuda device\n"
     ]
    },
    {
     "name": "stderr",
     "output_type": "stream",
     "text": [
      "Using cache found in /home/shuangwu/.cache/torch/hub/pytorch_vision_v0.10.0\n"
     ]
    }
   ],
   "source": [
    "device = \"cuda\" if torch.cuda.is_available() else \"cpu\"\n",
    "print(f\"Using {device} device\")\n",
    "\n",
    "model: torch.nn.Module = torch.hub.load(\n",
    "    \"pytorch/vision:v0.10.0\",\n",
    "    \"inception_v3\",\n",
    "    init_weights=False,\n",
    "    num_classes=training_data.num_attributes,\n",
    ")\n",
    "model = model.to(device)\n"
   ]
  },
  {
   "cell_type": "code",
   "execution_count": 4,
   "metadata": {},
   "outputs": [],
   "source": [
    "def train(\n",
    "    dataloader: DataLoader[tuple[torch.Tensor, torch.Tensor]],\n",
    "    model: torch.nn.Module,\n",
    "    loss_fn: torch.nn.Module,\n",
    "    optimizer: torch.optim.Optimizer,\n",
    "):\n",
    "    size = len(dataloader.dataset)  # type: ignore\n",
    "    model.train()\n",
    "    losses: list[float] = []\n",
    "    for batch, (X, y) in enumerate(dataloader):\n",
    "        X, y = X.to(device), y.to(torch.float).to(device)  # type: ignore\n",
    "\n",
    "        logits, aux_logits = model(X)\n",
    "        loss = loss_fn(logits, y) + 0.4 * loss_fn(aux_logits, y)\n",
    "\n",
    "        optimizer.zero_grad()\n",
    "        loss.backward()\n",
    "        optimizer.step()\n",
    "\n",
    "        if batch % 100 == 0:\n",
    "            loss, current = loss.item(), batch * len(X)\n",
    "            print(f\"loss: {loss:>7f}  [{current:>5d}/{size:>5d}]\")\n",
    "            losses.append(loss)\n",
    "    return losses\n"
   ]
  },
  {
   "cell_type": "code",
   "execution_count": 5,
   "metadata": {},
   "outputs": [],
   "source": [
    "def test(\n",
    "    dataloader: DataLoader[tuple[torch.Tensor, torch.Tensor]],\n",
    "    model: torch.nn.Module,\n",
    "    loss_fn: torch.nn.Module,\n",
    "):\n",
    "    size = len(dataloader.dataset)  # type: ignore\n",
    "    num_batches = len(dataloader)\n",
    "    model.eval()\n",
    "    test_loss, correct = 0, 0\n",
    "    with torch.no_grad():\n",
    "        sigmoid = torch.nn.Sigmoid()\n",
    "        for X, y in dataloader:\n",
    "            X, y = X.to(device), y.to(device)  # type: ignore\n",
    "            logits = model(X)\n",
    "            test_loss += loss_fn(logits, y.to(torch.float)).item()\n",
    "            correct += torch.mean(\n",
    "                ((sigmoid(logits) > 0).to(torch.int64) == y).to(torch.float)\n",
    "            ).item()\n",
    "    test_loss /= num_batches\n",
    "    accuracy = correct / size\n",
    "    print(\n",
    "        f\"Test Error: \\n Accuracy: {(100*accuracy):>0.1f}%, Avg loss: {test_loss:>8f} \\n\"\n",
    "    )\n",
    "    return test_loss, accuracy\n"
   ]
  },
  {
   "cell_type": "code",
   "execution_count": 6,
   "metadata": {},
   "outputs": [],
   "source": [
    "def save_model(model: torch.nn.Module):\n",
    "    torch.save(model.state_dict(), \"model_weights.pth\")\n",
    "    print(\"Saved PyTorch Model State to model.pth\")\n",
    "\n",
    "def load_model(model: torch.nn.Module):\n",
    "    model.load_state_dict(torch.load(\"model_weights.pth\"))\n",
    "    print(\"Loaded PyTorch Model State from model.pth\")\n",
    "    model.eval()"
   ]
  },
  {
   "cell_type": "code",
   "execution_count": 7,
   "metadata": {},
   "outputs": [],
   "source": [
    "def run_epoch(epochs: int):\n",
    "    loss_fn = torch.nn.BCEWithLogitsLoss()\n",
    "    optimizer = torch.optim.SGD(model.parameters(), lr=1e-3)\n",
    "\n",
    "    train_losses: list[float] = []\n",
    "    test_losses: list[float] = []\n",
    "    test_accuracies: list[float] = []\n",
    "    for t in range(epochs):\n",
    "        print(f\"Epoch {t+1}\\n-------------------------------\")\n",
    "        train_losses.extend(train(train_dataloader, model, loss_fn, optimizer))\n",
    "        test_loss, accuracy = test(test_dataloader, model, loss_fn)\n",
    "        test_losses.append(test_loss)\n",
    "        test_accuracies.append(accuracy)\n",
    "\n",
    "        if accuracy > 0.6 and t % 10 == 0:\n",
    "            save_model(model)\n",
    "\n",
    "        if accuracy > 0.8:\n",
    "            print(\"Reached 80% accuracy so cancelling training\")\n",
    "            break\n",
    "\n",
    "    print(\"Done!\")\n",
    "    return train_losses, test_losses, test_accuracies"
   ]
  },
  {
   "cell_type": "code",
   "execution_count": 8,
   "metadata": {},
   "outputs": [
    {
     "name": "stdout",
     "output_type": "stream",
     "text": [
      "Epoch 1\n",
      "-------------------------------\n",
      "loss: 0.997860  [    0/ 5994]\n",
      "loss: 0.976552  [ 1600/ 5994]\n",
      "loss: 0.966359  [ 3200/ 5994]\n",
      "loss: 0.950248  [ 4800/ 5994]\n"
     ]
    },
    {
     "ename": "RuntimeError",
     "evalue": "result type Float can't be cast to the desired output type Long",
     "output_type": "error",
     "traceback": [
      "\u001b[0;31m---------------------------------------------------------------------------\u001b[0m",
      "\u001b[0;31mRuntimeError\u001b[0m                              Traceback (most recent call last)",
      "Cell \u001b[0;32mIn [8], line 1\u001b[0m\n\u001b[0;32m----> 1\u001b[0m train_losses, test_losses, test_accuracies \u001b[39m=\u001b[39m run_epoch(epochs\u001b[39m=\u001b[39;49m\u001b[39m1000\u001b[39;49m)\n\u001b[1;32m      2\u001b[0m save_model(model)\n\u001b[1;32m      4\u001b[0m \u001b[39mimport\u001b[39;00m \u001b[39mjson\u001b[39;00m\n",
      "Cell \u001b[0;32mIn [7], line 11\u001b[0m, in \u001b[0;36mrun_epoch\u001b[0;34m(epochs)\u001b[0m\n\u001b[1;32m      9\u001b[0m \u001b[39mprint\u001b[39m(\u001b[39mf\u001b[39m\u001b[39m\"\u001b[39m\u001b[39mEpoch \u001b[39m\u001b[39m{\u001b[39;00mt\u001b[39m+\u001b[39m\u001b[39m1\u001b[39m\u001b[39m}\u001b[39;00m\u001b[39m\\n\u001b[39;00m\u001b[39m-------------------------------\u001b[39m\u001b[39m\"\u001b[39m)\n\u001b[1;32m     10\u001b[0m train_losses\u001b[39m.\u001b[39mextend(train(train_dataloader, model, loss_fn, optimizer))\n\u001b[0;32m---> 11\u001b[0m test_loss, accuracy \u001b[39m=\u001b[39m test(test_dataloader, model, loss_fn)\n\u001b[1;32m     12\u001b[0m test_losses\u001b[39m.\u001b[39mappend(test_loss)\n\u001b[1;32m     13\u001b[0m test_accuracies\u001b[39m.\u001b[39mappend(accuracy)\n",
      "Cell \u001b[0;32mIn [5], line 15\u001b[0m, in \u001b[0;36mtest\u001b[0;34m(dataloader, model, loss_fn)\u001b[0m\n\u001b[1;32m     13\u001b[0m         X, y \u001b[39m=\u001b[39m X\u001b[39m.\u001b[39mto(device), y\u001b[39m.\u001b[39mto(device)  \u001b[39m# type: ignore\u001b[39;00m\n\u001b[1;32m     14\u001b[0m         logits \u001b[39m=\u001b[39m model(X)\n\u001b[0;32m---> 15\u001b[0m         test_loss \u001b[39m+\u001b[39m\u001b[39m=\u001b[39m loss_fn(logits, y)\u001b[39m.\u001b[39mitem()\n\u001b[1;32m     16\u001b[0m         correct \u001b[39m+\u001b[39m\u001b[39m=\u001b[39m torch\u001b[39m.\u001b[39mmean(\n\u001b[1;32m     17\u001b[0m             ((sigmoid(logits) \u001b[39m>\u001b[39m \u001b[39m0\u001b[39m)\u001b[39m.\u001b[39mto(torch\u001b[39m.\u001b[39mint64) \u001b[39m==\u001b[39m y)\u001b[39m.\u001b[39mto(torch\u001b[39m.\u001b[39mfloat)\n\u001b[1;32m     18\u001b[0m         )\u001b[39m.\u001b[39mitem()\n\u001b[1;32m     19\u001b[0m test_loss \u001b[39m/\u001b[39m\u001b[39m=\u001b[39m num_batches\n",
      "File \u001b[0;32m~/interactive-concept-bottleneck/.venv/lib/python3.10/site-packages/torch/nn/modules/module.py:1190\u001b[0m, in \u001b[0;36mModule._call_impl\u001b[0;34m(self, *input, **kwargs)\u001b[0m\n\u001b[1;32m   1186\u001b[0m \u001b[39m# If we don't have any hooks, we want to skip the rest of the logic in\u001b[39;00m\n\u001b[1;32m   1187\u001b[0m \u001b[39m# this function, and just call forward.\u001b[39;00m\n\u001b[1;32m   1188\u001b[0m \u001b[39mif\u001b[39;00m \u001b[39mnot\u001b[39;00m (\u001b[39mself\u001b[39m\u001b[39m.\u001b[39m_backward_hooks \u001b[39mor\u001b[39;00m \u001b[39mself\u001b[39m\u001b[39m.\u001b[39m_forward_hooks \u001b[39mor\u001b[39;00m \u001b[39mself\u001b[39m\u001b[39m.\u001b[39m_forward_pre_hooks \u001b[39mor\u001b[39;00m _global_backward_hooks\n\u001b[1;32m   1189\u001b[0m         \u001b[39mor\u001b[39;00m _global_forward_hooks \u001b[39mor\u001b[39;00m _global_forward_pre_hooks):\n\u001b[0;32m-> 1190\u001b[0m     \u001b[39mreturn\u001b[39;00m forward_call(\u001b[39m*\u001b[39;49m\u001b[39minput\u001b[39;49m, \u001b[39m*\u001b[39;49m\u001b[39m*\u001b[39;49mkwargs)\n\u001b[1;32m   1191\u001b[0m \u001b[39m# Do not call functions when jit is used\u001b[39;00m\n\u001b[1;32m   1192\u001b[0m full_backward_hooks, non_full_backward_hooks \u001b[39m=\u001b[39m [], []\n",
      "File \u001b[0;32m~/interactive-concept-bottleneck/.venv/lib/python3.10/site-packages/torch/nn/modules/loss.py:720\u001b[0m, in \u001b[0;36mBCEWithLogitsLoss.forward\u001b[0;34m(self, input, target)\u001b[0m\n\u001b[1;32m    719\u001b[0m \u001b[39mdef\u001b[39;00m \u001b[39mforward\u001b[39m(\u001b[39mself\u001b[39m, \u001b[39minput\u001b[39m: Tensor, target: Tensor) \u001b[39m-\u001b[39m\u001b[39m>\u001b[39m Tensor:\n\u001b[0;32m--> 720\u001b[0m     \u001b[39mreturn\u001b[39;00m F\u001b[39m.\u001b[39;49mbinary_cross_entropy_with_logits(\u001b[39minput\u001b[39;49m, target,\n\u001b[1;32m    721\u001b[0m                                               \u001b[39mself\u001b[39;49m\u001b[39m.\u001b[39;49mweight,\n\u001b[1;32m    722\u001b[0m                                               pos_weight\u001b[39m=\u001b[39;49m\u001b[39mself\u001b[39;49m\u001b[39m.\u001b[39;49mpos_weight,\n\u001b[1;32m    723\u001b[0m                                               reduction\u001b[39m=\u001b[39;49m\u001b[39mself\u001b[39;49m\u001b[39m.\u001b[39;49mreduction)\n",
      "File \u001b[0;32m~/interactive-concept-bottleneck/.venv/lib/python3.10/site-packages/torch/nn/functional.py:3162\u001b[0m, in \u001b[0;36mbinary_cross_entropy_with_logits\u001b[0;34m(input, target, weight, size_average, reduce, reduction, pos_weight)\u001b[0m\n\u001b[1;32m   3159\u001b[0m \u001b[39mif\u001b[39;00m \u001b[39mnot\u001b[39;00m (target\u001b[39m.\u001b[39msize() \u001b[39m==\u001b[39m \u001b[39minput\u001b[39m\u001b[39m.\u001b[39msize()):\n\u001b[1;32m   3160\u001b[0m     \u001b[39mraise\u001b[39;00m \u001b[39mValueError\u001b[39;00m(\u001b[39m\"\u001b[39m\u001b[39mTarget size (\u001b[39m\u001b[39m{}\u001b[39;00m\u001b[39m) must be the same as input size (\u001b[39m\u001b[39m{}\u001b[39;00m\u001b[39m)\u001b[39m\u001b[39m\"\u001b[39m\u001b[39m.\u001b[39mformat(target\u001b[39m.\u001b[39msize(), \u001b[39minput\u001b[39m\u001b[39m.\u001b[39msize()))\n\u001b[0;32m-> 3162\u001b[0m \u001b[39mreturn\u001b[39;00m torch\u001b[39m.\u001b[39;49mbinary_cross_entropy_with_logits(\u001b[39minput\u001b[39;49m, target, weight, pos_weight, reduction_enum)\n",
      "\u001b[0;31mRuntimeError\u001b[0m: result type Float can't be cast to the desired output type Long"
     ]
    }
   ],
   "source": [
    "train_losses, test_losses, test_accuracies = run_epoch(epochs=1000)\n",
    "save_model(model)\n",
    "\n",
    "import json\n",
    "\n",
    "with open(\"train_losses.json\", \"w\") as f:\n",
    "    json.dump(train_losses, f)\n",
    "\n",
    "with open(\"test_losses.json\", \"w\") as f:\n",
    "    json.dump(test_losses, f)\n",
    "\n",
    "with open(\"test_accuracies.json\", \"w\") as f:\n",
    "    json.dump(test_accuracies, f)"
   ]
  }
 ],
 "metadata": {
  "kernelspec": {
   "display_name": "Python 3.10.8 ('.venv': poetry)",
   "language": "python",
   "name": "python3"
  },
  "language_info": {
   "codemirror_mode": {
    "name": "ipython",
    "version": 3
   },
   "file_extension": ".py",
   "mimetype": "text/x-python",
   "name": "python",
   "nbconvert_exporter": "python",
   "pygments_lexer": "ipython3",
   "version": "3.10.8"
  },
  "orig_nbformat": 4,
  "vscode": {
   "interpreter": {
    "hash": "0d4040fe446a930194e7f49e706fe5ca82fc3ae21142ec3efeed3554a6698e7d"
   }
  }
 },
 "nbformat": 4,
 "nbformat_minor": 2
}
