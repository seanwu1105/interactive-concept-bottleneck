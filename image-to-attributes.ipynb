{
 "cells": [
  {
   "cell_type": "code",
   "execution_count": 1,
   "metadata": {},
   "outputs": [],
   "source": [
    "from torch.utils.data import DataLoader\n",
    "\n",
    "from src.concept_bottleneck.dataset import (\n",
    "    CUB200ImageToAttributes,\n",
    "    NUM_ATTRIBUTES,\n",
    ")\n",
    "\n",
    "batch_size = 16\n",
    "num_workers = 2\n",
    "\n",
    "training_data = CUB200ImageToAttributes(train=True)\n",
    "training_dataloader = DataLoader(\n",
    "    training_data, batch_size=batch_size, num_workers=num_workers, shuffle=True\n",
    ")\n",
    "\n",
    "test_data = CUB200ImageToAttributes(train=False)\n",
    "test_dataloader = DataLoader(test_data, batch_size=batch_size, num_workers=num_workers)\n"
   ]
  },
  {
   "cell_type": "code",
   "execution_count": 2,
   "metadata": {},
   "outputs": [
    {
     "name": "stdout",
     "output_type": "stream",
     "text": [
      "Using cuda device\n"
     ]
    },
    {
     "name": "stderr",
     "output_type": "stream",
     "text": [
      "Using cache found in /home/shuangwu/.cache/torch/hub/pytorch_vision_v0.10.0\n"
     ]
    }
   ],
   "source": [
    "import torch\n",
    "\n",
    "device = \"cuda\" if torch.cuda.is_available() else \"cpu\"\n",
    "print(f\"Using {device} device\")\n",
    "\n",
    "model: torch.nn.Module = torch.hub.load(\n",
    "    \"pytorch/vision:v0.10.0\",\n",
    "    \"inception_v3\",\n",
    "    init_weights=False,\n",
    "    num_classes=NUM_ATTRIBUTES,\n",
    ").to(device)\n"
   ]
  },
  {
   "cell_type": "code",
   "execution_count": 3,
   "metadata": {},
   "outputs": [],
   "source": [
    "import numpy.typing as npt\n",
    "import numpy as np\n",
    "\n",
    "\n",
    "def train(\n",
    "    model: torch.nn.Module,\n",
    "    dataloader: DataLoader[tuple[torch.Tensor, npt.NDArray[np.float32]]],\n",
    "    loss_fn: torch.nn.Module,\n",
    "    optimizer: torch.optim.Optimizer,\n",
    "    device: str,\n",
    "):\n",
    "    model.train()\n",
    "    size = len(dataloader.dataset)  # type: ignore\n",
    "    for batch, (x, y) in enumerate(dataloader):\n",
    "        x = x.to(device)\n",
    "        y = y.to(device)\n",
    "\n",
    "        logits, aux_logits = model(x)\n",
    "        loss = loss_fn(logits, y) + 0.4 * loss_fn(aux_logits, y)\n",
    "\n",
    "        optimizer.zero_grad()\n",
    "        loss.backward()\n",
    "        optimizer.step()\n",
    "\n",
    "        if batch % 100 == 0:\n",
    "            print(f\"loss: {loss.item():>7f} [{batch * len(x):>5d}/{size:>5d}]\")\n",
    "\n",
    "\n",
    "def test(\n",
    "    model: torch.nn.Module,\n",
    "    dataloader: DataLoader[tuple[torch.Tensor, npt.NDArray[np.float32]]],\n",
    "    loss_fn: torch.nn.Module,\n",
    "    device: str,\n",
    "):\n",
    "    model.eval()\n",
    "    test_loss = 0\n",
    "    correct = 0\n",
    "    with torch.no_grad():\n",
    "        for x, y in dataloader:\n",
    "            x = x.to(device)\n",
    "            y = y.to(device)\n",
    "\n",
    "            logits = model(x)\n",
    "            test_loss += loss_fn(logits, y).item()\n",
    "\n",
    "            correct_attributes = (\n",
    "                ((torch.sigmoid(logits) >= 0.5) == (y >= 0.5)).sum().item()\n",
    "            )\n",
    "            correct += correct_attributes / NUM_ATTRIBUTES\n",
    "\n",
    "    test_loss /= len(dataloader)\n",
    "    accuracy = correct / len(dataloader.dataset)  # type: ignore\n",
    "\n",
    "    return test_loss, accuracy\n"
   ]
  },
  {
   "cell_type": "code",
   "execution_count": 4,
   "metadata": {},
   "outputs": [
    {
     "name": "stdout",
     "output_type": "stream",
     "text": [
      "Epoch 1/100-------------------\n",
      "loss: 0.359064 [    0/ 5994]\n",
      "loss: 0.320421 [ 1600/ 5994]\n",
      "loss: 0.299955 [ 3200/ 5994]\n",
      "loss: 0.275967 [ 4800/ 5994]\n",
      "Training Loss: 0.1315, Training Accuracy: 42.1748%\n",
      "Test Loss: 0.1346, Test Accuracy: 42.0381%\n",
      "Saving model to image-to-attributes with accuracy 42.0381%\n",
      "Epoch 2/100-------------------\n",
      "loss: 0.281688 [    0/ 5994]\n"
     ]
    },
    {
     "ename": "KeyboardInterrupt",
     "evalue": "",
     "output_type": "error",
     "traceback": [
      "\u001b[0;31m---------------------------------------------------------------------------\u001b[0m",
      "\u001b[0;31mKeyboardInterrupt\u001b[0m                         Traceback (most recent call last)",
      "Cell \u001b[0;32mIn [4], line 13\u001b[0m\n\u001b[1;32m      9\u001b[0m test_fn: TestFn \u001b[39m=\u001b[39m \u001b[39mlambda\u001b[39;00m model, dataloader: test(model, dataloader, loss_fn, device)\n\u001b[1;32m     11\u001b[0m epochs \u001b[39m=\u001b[39m \u001b[39m100\u001b[39m\n\u001b[0;32m---> 13\u001b[0m run_epochs(\n\u001b[1;32m     14\u001b[0m     epochs,\n\u001b[1;32m     15\u001b[0m     model,\n\u001b[1;32m     16\u001b[0m     train_fn,\n\u001b[1;32m     17\u001b[0m     test_fn,\n\u001b[1;32m     18\u001b[0m     training_dataloader,\n\u001b[1;32m     19\u001b[0m     test_dataloader,\n\u001b[1;32m     20\u001b[0m     save_name\u001b[39m=\u001b[39;49m\u001b[39m\"\u001b[39;49m\u001b[39mimage-to-attributes\u001b[39;49m\u001b[39m\"\u001b[39;49m,\n\u001b[1;32m     21\u001b[0m )\n",
      "File \u001b[0;32m~/interactive-concept-bottleneck/src/concept_bottleneck/train.py:25\u001b[0m, in \u001b[0;36mrun_epochs\u001b[0;34m(epochs, model, train, test, training_dataloader, test_dataloader, save_name)\u001b[0m\n\u001b[1;32m     22\u001b[0m \u001b[39mfor\u001b[39;00m epoch \u001b[39min\u001b[39;00m \u001b[39mrange\u001b[39m(epochs):\n\u001b[1;32m     23\u001b[0m     \u001b[39mprint\u001b[39m(\u001b[39mf\u001b[39m\u001b[39m\"\u001b[39m\u001b[39mEpoch \u001b[39m\u001b[39m{\u001b[39;00mepoch \u001b[39m+\u001b[39m \u001b[39m1\u001b[39m\u001b[39m}\u001b[39;00m\u001b[39m/\u001b[39m\u001b[39m{\u001b[39;00mepochs\u001b[39m}\u001b[39;00m\u001b[39m-------------------\u001b[39m\u001b[39m\"\u001b[39m)\n\u001b[0;32m---> 25\u001b[0m     train(model)\n\u001b[1;32m     27\u001b[0m     training_loss, training_acc \u001b[39m=\u001b[39m test(model, training_dataloader)\n\u001b[1;32m     28\u001b[0m     \u001b[39mprint\u001b[39m(\n\u001b[1;32m     29\u001b[0m         \u001b[39mf\u001b[39m\u001b[39m\"\u001b[39m\u001b[39mTraining Loss: \u001b[39m\u001b[39m{\u001b[39;00mtraining_loss\u001b[39m:\u001b[39;00m\u001b[39m.4f\u001b[39m\u001b[39m}\u001b[39;00m\u001b[39m, Training Accuracy: \u001b[39m\u001b[39m{\u001b[39;00m\u001b[39m100\u001b[39m \u001b[39m*\u001b[39m training_acc\u001b[39m:\u001b[39;00m\u001b[39m>0.4f\u001b[39m\u001b[39m}\u001b[39;00m\u001b[39m%\u001b[39m\u001b[39m\"\u001b[39m\n\u001b[1;32m     30\u001b[0m     )\n",
      "Cell \u001b[0;32mIn [4], line 6\u001b[0m, in \u001b[0;36m<lambda>\u001b[0;34m(model)\u001b[0m\n\u001b[1;32m      3\u001b[0m loss_fn \u001b[39m=\u001b[39m torch\u001b[39m.\u001b[39mnn\u001b[39m.\u001b[39mMSELoss()\n\u001b[1;32m      4\u001b[0m optimizer \u001b[39m=\u001b[39m torch\u001b[39m.\u001b[39moptim\u001b[39m.\u001b[39mSGD(model\u001b[39m.\u001b[39mparameters(), lr\u001b[39m=\u001b[39m\u001b[39m0.001\u001b[39m)\n\u001b[0;32m----> 6\u001b[0m train_fn: TrainFn \u001b[39m=\u001b[39m \u001b[39mlambda\u001b[39;00m model: train(\n\u001b[1;32m      7\u001b[0m     model, training_dataloader, loss_fn, optimizer, device\n\u001b[1;32m      8\u001b[0m )\n\u001b[1;32m      9\u001b[0m test_fn: TestFn \u001b[39m=\u001b[39m \u001b[39mlambda\u001b[39;00m model, dataloader: test(model, dataloader, loss_fn, device)\n\u001b[1;32m     11\u001b[0m epochs \u001b[39m=\u001b[39m \u001b[39m100\u001b[39m\n",
      "Cell \u001b[0;32mIn [3], line 15\u001b[0m, in \u001b[0;36mtrain\u001b[0;34m(model, dataloader, loss_fn, optimizer, device)\u001b[0m\n\u001b[1;32m     13\u001b[0m size \u001b[39m=\u001b[39m \u001b[39mlen\u001b[39m(dataloader\u001b[39m.\u001b[39mdataset)  \u001b[39m# type: ignore\u001b[39;00m\n\u001b[1;32m     14\u001b[0m \u001b[39mfor\u001b[39;00m batch, (x, y) \u001b[39min\u001b[39;00m \u001b[39menumerate\u001b[39m(dataloader):\n\u001b[0;32m---> 15\u001b[0m     x \u001b[39m=\u001b[39m x\u001b[39m.\u001b[39;49mto(device)\n\u001b[1;32m     16\u001b[0m     y \u001b[39m=\u001b[39m y\u001b[39m.\u001b[39mto(device)\n\u001b[1;32m     18\u001b[0m     logits, aux_logits \u001b[39m=\u001b[39m model(x)\n",
      "\u001b[0;31mKeyboardInterrupt\u001b[0m: "
     ]
    }
   ],
   "source": [
    "from src.concept_bottleneck.train import TrainFn, TestFn, run_epochs\n",
    "\n",
    "loss_fn = torch.nn.MSELoss()\n",
    "optimizer = torch.optim.SGD(model.parameters(), lr=0.001)\n",
    "\n",
    "train_fn: TrainFn = lambda model: train(\n",
    "    model, training_dataloader, loss_fn, optimizer, device\n",
    ")\n",
    "test_fn: TestFn = lambda model, dataloader: test(model, dataloader, loss_fn, device)\n",
    "\n",
    "epochs = 100\n",
    "\n",
    "run_epochs(\n",
    "    epochs,\n",
    "    model,\n",
    "    train_fn,\n",
    "    test_fn,\n",
    "    training_dataloader,\n",
    "    test_dataloader,\n",
    "    save_name=\"image-to-attributes\",\n",
    ")\n"
   ]
  }
 ],
 "metadata": {
  "kernelspec": {
   "display_name": "Python 3.10.8 ('.venv': poetry)",
   "language": "python",
   "name": "python3"
  },
  "language_info": {
   "codemirror_mode": {
    "name": "ipython",
    "version": 3
   },
   "file_extension": ".py",
   "mimetype": "text/x-python",
   "name": "python",
   "nbconvert_exporter": "python",
   "pygments_lexer": "ipython3",
   "version": "3.10.8"
  },
  "orig_nbformat": 4,
  "vscode": {
   "interpreter": {
    "hash": "0d4040fe446a930194e7f49e706fe5ca82fc3ae21142ec3efeed3554a6698e7d"
   }
  }
 },
 "nbformat": 4,
 "nbformat_minor": 2
}
