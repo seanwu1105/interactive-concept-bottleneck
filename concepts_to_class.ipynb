{
 "cells": [
  {
   "cell_type": "code",
   "execution_count": null,
   "metadata": {},
   "outputs": [],
   "source": [
    "import torch\n",
    "\n",
    "from src.concept_bottleneck.dataset import CUB200AttributesToClass\n",
    "\n",
    "training_data: CUB200AttributesToClass[\n",
    "    torch.Tensor, torch.Tensor\n",
    "] = CUB200AttributesToClass(\n",
    "    train=True,\n",
    "    transform=torch.from_numpy,  # type: ignore\n",
    "    target_transform=lambda x: x - 1,  # from 1-indexed to 0-indexed\n",
    ")\n",
    "test_data: CUB200AttributesToClass[\n",
    "    torch.Tensor, torch.Tensor\n",
    "] = CUB200AttributesToClass(\n",
    "    train=False,\n",
    "    transform=torch.from_numpy,  # type: ignore\n",
    "    target_transform=lambda x: x - 1,  # from 1-indexed to 0-indexed\n",
    ")\n"
   ]
  },
  {
   "cell_type": "code",
   "execution_count": null,
   "metadata": {},
   "outputs": [],
   "source": [
    "from torch.utils.data import DataLoader\n",
    "\n",
    "batch_size = 4\n",
    "num_workers = 1\n",
    "\n",
    "training_dataloader = DataLoader(\n",
    "    training_data, batch_size=batch_size, shuffle=True, num_workers=num_workers\n",
    ")\n",
    "test_dataloader = DataLoader(test_data, batch_size=batch_size, num_workers=num_workers)\n"
   ]
  },
  {
   "cell_type": "code",
   "execution_count": null,
   "metadata": {},
   "outputs": [],
   "source": [
    "from torchvision.ops import MLP\n",
    "\n",
    "device = \"cuda\" if torch.cuda.is_available() else \"cpu\"\n",
    "print(f\"Using {device} device\")\n",
    "\n",
    "model = MLP(\n",
    "    in_channels=training_data.num_attributes,\n",
    "    hidden_channels=[training_data.num_classes],\n",
    ")\n",
    "model = model.to(device)\n"
   ]
  },
  {
   "cell_type": "code",
   "execution_count": null,
   "metadata": {},
   "outputs": [],
   "source": [
    "def train(\n",
    "    dataloader: DataLoader[tuple[torch.Tensor, torch.Tensor]],\n",
    "    model: torch.nn.Module,\n",
    "    loss_fn: torch.nn.Module,\n",
    "    optimizer: torch.optim.Optimizer,\n",
    "):\n",
    "    size = len(dataloader.dataset)  # type: ignore\n",
    "    model.train()\n",
    "    for batch, (X, y) in enumerate(dataloader):\n",
    "        X, y = X.to(torch.float).to(device), y.to(device)  # type: ignore\n",
    "\n",
    "        logits = model(X)\n",
    "        loss = loss_fn(logits, y)\n",
    "\n",
    "        optimizer.zero_grad()\n",
    "        loss.backward()\n",
    "        optimizer.step()\n",
    "\n",
    "        if batch % 1000 == 0:\n",
    "            loss, current = loss.item(), batch * len(X)\n",
    "            print(f\"loss: {loss:>7f}  [{current:>5d}/{size:>5d}]\")\n"
   ]
  },
  {
   "cell_type": "code",
   "execution_count": null,
   "metadata": {},
   "outputs": [],
   "source": [
    "def test(\n",
    "    dataloader: DataLoader[tuple[torch.Tensor, torch.Tensor]],\n",
    "    model: torch.nn.Module,\n",
    "    loss_fn: torch.nn.Module,\n",
    "):\n",
    "    size = len(dataloader.dataset)  # type: ignore\n",
    "    num_batches = len(dataloader)\n",
    "    model.eval()\n",
    "    test_loss, correct = 0, 0\n",
    "    with torch.no_grad():\n",
    "        for X, y in dataloader:\n",
    "            X, y = X.to(torch.float).to(device), y.to(device)  # type: ignore\n",
    "            logits = model(X)\n",
    "            test_loss += loss_fn(logits, y).item()\n",
    "            correct += (torch.argmax(logits, dim=1) == y).sum().item()\n",
    "    test_loss /= num_batches\n",
    "    accuracy = correct / size\n",
    "    return test_loss, accuracy\n"
   ]
  },
  {
   "cell_type": "code",
   "execution_count": null,
   "metadata": {},
   "outputs": [],
   "source": [
    "def save_model(model: torch.nn.Module, filename: str):\n",
    "    torch.save(model.state_dict(), f\"{filename}.pth\")\n",
    "    print(f\"Saved PyTorch Model State to {filename}.pth\")\n",
    "\n",
    "\n",
    "def load_model(model: torch.nn.Module, filename: str):\n",
    "    model.load_state_dict(torch.load(f\"{filename}.pth\"))\n",
    "    print(f\"Loaded PyTorch Model State from {filename}.pth\")\n",
    "    model.eval()\n"
   ]
  },
  {
   "cell_type": "code",
   "execution_count": null,
   "metadata": {},
   "outputs": [],
   "source": [
    "def run_epoch(epochs: int):\n",
    "    loss_fn = torch.nn.CrossEntropyLoss()\n",
    "    optimizer = torch.optim.SGD(model.parameters(), lr=1e-3)\n",
    "\n",
    "    train_losses: list[float] = []\n",
    "    train_accuracies: list[float] = []\n",
    "    test_losses: list[float] = []\n",
    "    test_accuracies: list[float] = []\n",
    "    for t in range(epochs):\n",
    "        print(f\"\\nEpoch {t+1}\\n-------------------------------\")\n",
    "        train(training_dataloader, model, loss_fn, optimizer)\n",
    "        train_loss, train_accuracy = test(training_dataloader, model, loss_fn)\n",
    "        print(\n",
    "            f\"Train Accuracy: {(100 * train_accuracy):>0.10f}%, Avg loss: {train_loss:>8f}\"\n",
    "        )\n",
    "        train_losses.append(train_loss)\n",
    "        train_accuracies.append(train_accuracy)\n",
    "\n",
    "        test_loss, test_accuracy = test(test_dataloader, model, loss_fn)\n",
    "        print(\n",
    "            f\"Test Accuracy: {(100 * test_accuracy):>0.10f}%, Avg loss: {test_loss:>8f}\"\n",
    "        )\n",
    "        test_losses.append(test_loss)\n",
    "        test_accuracies.append(test_accuracy)\n",
    "\n",
    "        if test_accuracy > 0.85 and t % 50 == 0:\n",
    "            save_model(model, f\"mlp_model_{t}\")\n",
    "\n",
    "        if test_accuracy > 0.98:\n",
    "            print(\"Reached 98% accuracy so cancelling training\")\n",
    "            break\n",
    "\n",
    "    print(\"Done!\")\n",
    "    return train_losses, train_accuracies, test_losses, test_accuracies\n"
   ]
  },
  {
   "cell_type": "code",
   "execution_count": null,
   "metadata": {},
   "outputs": [],
   "source": [
    "train_losses, train_accuracies, test_losses, test_accuracies = run_epoch(epochs=5000)\n",
    "save_model(model, \"mlp_model_final\")\n",
    "\n",
    "import json\n",
    "\n",
    "with open(\"train_losses.json\", \"w\") as f:\n",
    "    json.dump(train_losses, f)\n",
    "\n",
    "with open(\"train_accuracies.json\", \"w\") as f:\n",
    "    json.dump(train_accuracies, f)\n",
    "\n",
    "with open(\"test_losses.json\", \"w\") as f:\n",
    "    json.dump(test_losses, f)\n",
    "\n",
    "with open(\"test_accuracies.json\", \"w\") as f:\n",
    "    json.dump(test_accuracies, f)\n"
   ]
  }
 ],
 "metadata": {
  "kernelspec": {
   "display_name": "Python 3.10.8 ('.venv': poetry)",
   "language": "python",
   "name": "python3"
  },
  "language_info": {
   "codemirror_mode": {
    "name": "ipython",
    "version": 3
   },
   "file_extension": ".py",
   "mimetype": "text/x-python",
   "name": "python",
   "nbconvert_exporter": "python",
   "pygments_lexer": "ipython3",
   "version": "3.10.8"
  },
  "orig_nbformat": 4,
  "vscode": {
   "interpreter": {
    "hash": "0d4040fe446a930194e7f49e706fe5ca82fc3ae21142ec3efeed3554a6698e7d"
   }
  }
 },
 "nbformat": 4,
 "nbformat_minor": 2
}
